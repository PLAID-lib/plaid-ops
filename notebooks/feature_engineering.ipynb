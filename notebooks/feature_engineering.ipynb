{
 "cells": [
  {
   "cell_type": "markdown",
   "id": "1c8011a1",
   "metadata": {},
   "source": [
    "# Feature engineering examples\n",
    "\n",
    "## Introduction\n",
    "This notebook illustrates some feature engineering capabilities provided by plaid-ops. "
   ]
  },
  {
   "cell_type": "code",
   "execution_count": null,
   "id": "6e58f807",
   "metadata": {},
   "outputs": [],
   "source": [
    "import os\n",
    "\n",
    "from datasets import load_dataset\n",
    "from IPython.display import Image as IPyImage\n",
    "from IPython.display import display\n",
    "from PIL import Image as PILImage\n",
    "from plaid.bridges.huggingface_bridge import (\n",
    "    huggingface_dataset_to_plaid,\n",
    "    huggingface_description_to_problem_definition,\n",
    ")\n",
    "\n",
    "from plaid_ops.common.visualization import plot_field\n",
    "from plaid_ops.mesh.feature_engineering import (\n",
    "    compute_sdf,\n",
    "    update_dataset_with_sdf,\n",
    "    update_sample_with_sdf,\n",
    ")\n",
    "\n",
    "hf_dataset = load_dataset(\n",
    "    \"PLAID-datasets/2D_Multiscale_Hyperelasticity\", split=\"all_samples\"\n",
    ")\n",
    "pb_def = huggingface_description_to_problem_definition(hf_dataset.info.description)\n",
    "ids = pb_def.get_split(\"DOE_train\")[:2]\n",
    "dataset, _ = huggingface_dataset_to_plaid(hf_dataset, ids=ids, processes_number=2)"
   ]
  },
  {
   "cell_type": "markdown",
   "id": "8ad596ca",
   "metadata": {},
   "source": [
    "## Dataset-wide signed-distance function computation"
   ]
  },
  {
   "cell_type": "code",
   "execution_count": null,
   "id": "13a3cb8c",
   "metadata": {},
   "outputs": [],
   "source": [
    "sample = dataset[ids[0]]\n",
    "\n",
    "print(\"[before update] 'sdf' in sample fields ?\", \"sdf\" in sample.get_field_names())\n",
    "updated_sample = update_sample_with_sdf(sample)\n",
    "print(\n",
    "    \"[after update] 'sdf' in sample fields ?\", \"sdf\" in updated_sample.get_field_names()\n",
    ")"
   ]
  },
  {
   "cell_type": "code",
   "execution_count": null,
   "id": "1e058f96",
   "metadata": {},
   "outputs": [],
   "source": [
    "print(\n",
    "    \"[before update] 'sdf' in dataset fields ?\",\n",
    "    \"sdf\" in dataset[ids[0]].get_field_names(),\n",
    ")\n",
    "updated_dataset = update_dataset_with_sdf(dataset)\n",
    "print(\n",
    "    \"[after update] 'sdf' in dataset fields ?\",\n",
    "    \"sdf\" in updated_dataset[ids[0]].get_field_names(),\n",
    ")"
   ]
  },
  {
   "cell_type": "code",
   "execution_count": null,
   "id": "41a23889",
   "metadata": {},
   "outputs": [],
   "source": [
    "sample = dataset[ids[0]]\n",
    "computed_sdf = compute_sdf(sample)\n",
    "\n",
    "img_name = \"feature_engineering_1.png\"\n",
    "if os.environ.get(\"READTHEDOCS\") == \"True\" or os.environ.get(\"GITHUB_ACTIONS\"):\n",
    "    display(IPyImage(filename=img_name))\n",
    "else:\n",
    "    img_array = plot_field(\n",
    "        sample,\n",
    "        computed_sdf,\n",
    "        title=\"SDF illustration\",\n",
    "        scalar_bar_args={\"title\": \"sdf\"},\n",
    "    )\n",
    "    img = PILImage.fromarray(img_array)\n",
    "    img.save(img_name)\n",
    "    display(img)"
   ]
  },
  {
   "cell_type": "markdown",
   "id": "c657616d",
   "metadata": {},
   "source": [
    "This computation relies on the finite element engine provided by Muscat. It computes the exact distance from each node to the boundary, i.e., to the surface elements that define the mesh boundary (for both 2D and 3D meshes seamlessly).\n",
    "\n",
    "We now illustrate the error introduced by using a naive computation of the SDF, which measures the distance to the nearest point on the boundary."
   ]
  },
  {
   "cell_type": "code",
   "execution_count": null,
   "id": "cc7a81d1",
   "metadata": {},
   "outputs": [],
   "source": [
    "import numpy as np\n",
    "from Muscat.Bridges.CGNSBridge import CGNSToMesh\n",
    "from scipy.spatial import KDTree\n",
    "\n",
    "mesh = CGNSToMesh(dataset[ids[0]].get_mesh())\n",
    "\n",
    "ids_holes = mesh.GetNodalTag(\"Holes\").GetIds()\n",
    "ids_ext_boundary = mesh.GetNodalTag(\"Ext_bound\").GetIds()\n",
    "\n",
    "kdtree = KDTree(mesh.nodes[np.hstack((ids_holes, ids_ext_boundary))])\n",
    "\n",
    "naive_sdf, _ = kdtree.query(mesh.nodes)\n",
    "\n",
    "difference_sdf = computed_sdf - naive_sdf\n",
    "\n",
    "img_name = \"feature_engineering_2.png\"\n",
    "if os.environ.get(\"READTHEDOCS\") == \"True\" or os.environ.get(\"GITHUB_ACTIONS\"):\n",
    "    display(IPyImage(filename=img_name))\n",
    "else:\n",
    "    img_array = plot_field(\n",
    "        sample,\n",
    "        difference_sdf,\n",
    "        title=\"SDF error computation\",\n",
    "        scalar_bar_args={\"title\": \"sdf error\"},\n",
    "    )\n",
    "    img = PILImage.fromarray(img_array)\n",
    "    img.save(img_name)\n",
    "    display(img)"
   ]
  }
 ],
 "metadata": {
  "kernelspec": {
   "display_name": "plaid-ops",
   "language": "python",
   "name": "python3"
  },
  "language_info": {
   "codemirror_mode": {
    "name": "ipython",
    "version": 3
   },
   "file_extension": ".py",
   "mimetype": "text/x-python",
   "name": "python",
   "nbconvert_exporter": "python",
   "pygments_lexer": "ipython3",
   "version": "3.11.13"
  }
 },
 "nbformat": 4,
 "nbformat_minor": 5
}
