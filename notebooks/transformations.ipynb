{
 "cells": [
  {
   "cell_type": "markdown",
   "id": "1c8011a1",
   "metadata": {},
   "source": [
    "# Transformation examples\n",
    "\n",
    "## Introduction\n",
    "This notebook illustrates some tranformation capabilities provided by plaid-ops. "
   ]
  },
  {
   "cell_type": "code",
   "execution_count": null,
   "id": "6e58f807",
   "metadata": {},
   "outputs": [],
   "source": [
    "import os\n",
    "\n",
    "import numpy as np\n",
    "from datasets import load_dataset\n",
    "from IPython.display import Image as IPyImage\n",
    "from IPython.display import display\n",
    "from PIL import Image as PILImage\n",
    "from plaid.bridges.huggingface_bridge import (\n",
    "    huggingface_dataset_to_plaid,\n",
    "    huggingface_description_to_problem_definition,\n",
    ")\n",
    "\n",
    "from plaid_ops.common.visualization import plot_field, plot_sample_field\n",
    "from plaid_ops.mesh.transformations import (\n",
    "    compute_bounding_box,\n",
    "    project_on_other_datset,\n",
    "    project_on_regular_grid,\n",
    ")\n",
    "\n",
    "hf_dataset = load_dataset(\n",
    "    \"PLAID-datasets/2D_Multiscale_Hyperelasticity\", split=\"all_samples\"\n",
    ")\n",
    "pb_def = huggingface_description_to_problem_definition(hf_dataset.info.description)\n",
    "ids = pb_def.get_split(\"DOE_train\")[:2]\n",
    "dataset, _ = huggingface_dataset_to_plaid(hf_dataset, ids=ids, processes_number=2)"
   ]
  },
  {
   "cell_type": "markdown",
   "id": "88f7b4bc",
   "metadata": {},
   "source": [
    "## Dataset-wide projection for a constant rectilinear mesh\n",
    "\n",
    "We start by illustrating the `u1` field from the first sample:"
   ]
  },
  {
   "cell_type": "code",
   "execution_count": null,
   "id": "f721273a",
   "metadata": {},
   "outputs": [],
   "source": [
    "img_name = \"transformation_1.png\"\n",
    "if os.environ.get(\"READTHEDOCS\") == \"True\" or os.environ.get(\"GITHUB_ACTIONS\"):\n",
    "    display(IPyImage(filename=img_name))\n",
    "else:\n",
    "    img_array = plot_sample_field(\n",
    "        dataset[ids[0]],\n",
    "        \"u1\",\n",
    "        title=\"Unstructured mesh\",\n",
    "        show_edges=True,\n",
    "        scalar_bar_args={\"title\": \"u1\"},\n",
    "    )\n",
    "    img = PILImage.fromarray(img_array)\n",
    "    img.save(img_name)\n",
    "    display(img)"
   ]
  },
  {
   "cell_type": "markdown",
   "id": "bcd656d1",
   "metadata": {},
   "source": [
    "Then, we project all the dataset's meshes onto a constant rectilinear mesh. process works seemlessly for 2D and 3D meshes, and rely on finite element interpolation, that exploit the order on the underlying finite element representation of the solution:"
   ]
  },
  {
   "cell_type": "code",
   "execution_count": null,
   "id": "5f3a1e0e",
   "metadata": {},
   "outputs": [],
   "source": [
    "bbox = compute_bounding_box(dataset)\n",
    "dims = [101, 101]\n",
    "projected_dataset = project_on_regular_grid(\n",
    "    dataset, dimensions=dims, bbox=bbox, verbose=True\n",
    ")\n",
    "\n",
    "img_name = \"transformation_2.png\"\n",
    "if os.environ.get(\"READTHEDOCS\") == \"True\" or os.environ.get(\"GITHUB_ACTIONS\"):\n",
    "    display(IPyImage(filename=img_name))\n",
    "else:\n",
    "    img_array = plot_sample_field(\n",
    "        projected_dataset[ids[0]],\n",
    "        \"u1\",\n",
    "        title=\"Projection on regular grid mesh\",\n",
    "        show_edges=True,\n",
    "        scalar_bar_args={\"title\": \"u1\"},\n",
    "    )\n",
    "    img = PILImage.fromarray(img_array)\n",
    "    img.save(img_name)\n",
    "    display(img)"
   ]
  },
  {
   "cell_type": "markdown",
   "id": "57905462",
   "metadata": {},
   "source": [
    "We can easily project back to the initial meshes of the dataset, using again finite element interpolation: "
   ]
  },
  {
   "cell_type": "code",
   "execution_count": null,
   "id": "d6604828",
   "metadata": {},
   "outputs": [],
   "source": [
    "inv_projected_dataset = project_on_other_datset(\n",
    "    projected_dataset, dataset, verbose=True\n",
    ")\n",
    "\n",
    "img_name = \"transformation_3.png\"\n",
    "if os.environ.get(\"READTHEDOCS\") == \"True\" or os.environ.get(\"GITHUB_ACTIONS\"):\n",
    "    display(IPyImage(filename=img_name))\n",
    "else:\n",
    "    img_array = plot_sample_field(\n",
    "        inv_projected_dataset[ids[0]],\n",
    "        \"u1\",\n",
    "        title=\"Projection back to inital mesh\",\n",
    "        show_edges=True,\n",
    "        scalar_bar_args={\"title\": \"u1\"},\n",
    "    )\n",
    "    img = PILImage.fromarray(img_array)\n",
    "    img.save(img_name)\n",
    "    display(img)"
   ]
  },
  {
   "cell_type": "markdown",
   "id": "c06bc8c4",
   "metadata": {},
   "source": [
    "We compute the error made by both projection, and illustrate it:"
   ]
  },
  {
   "cell_type": "code",
   "execution_count": null,
   "id": "743a6d95",
   "metadata": {},
   "outputs": [],
   "source": [
    "error = inv_projected_dataset[ids[0]].get_field(\"u1\") - dataset[ids[0]].get_field(\"u1\")\n",
    "\n",
    "img_name = \"transformation_4.png\"\n",
    "if os.environ.get(\"READTHEDOCS\") == \"True\" or os.environ.get(\"GITHUB_ACTIONS\"):\n",
    "    display(IPyImage(filename=img_name))\n",
    "else:\n",
    "    img_array = plot_field(\n",
    "        dataset[ids[0]],\n",
    "        error,\n",
    "        title=\"u1 error from projection and inverse projection\",\n",
    "        show_edges=True,\n",
    "        scalar_bar_args={\"title\": \"u1 error\"},\n",
    "    )\n",
    "    img = PILImage.fromarray(img_array)\n",
    "    img.save(img_name)\n",
    "    display(img)"
   ]
  },
  {
   "cell_type": "markdown",
   "id": "ec9cccd1",
   "metadata": {},
   "source": [
    "We compute the norm of the error made by direct and inverse projections:"
   ]
  },
  {
   "cell_type": "code",
   "execution_count": null,
   "id": "1a220b65",
   "metadata": {},
   "outputs": [],
   "source": [
    "print(f\"u1 error norm from projection and inverse projection = {np.linalg.norm(error)}\")"
   ]
  },
  {
   "cell_type": "markdown",
   "id": "cddeb06e",
   "metadata": {},
   "source": [
    "Now, we compare our approach with a more naive one that rely on the value of the field of the nearest node in the target mesh:"
   ]
  },
  {
   "cell_type": "code",
   "execution_count": null,
   "id": "9b6ff1be",
   "metadata": {},
   "outputs": [],
   "source": [
    "from Muscat.Bridges.CGNSBridge import CGNSToMesh, MeshToCGNS\n",
    "from Muscat.MeshTools.ConstantRectilinearMeshTools import CreateConstantRectilinearMesh\n",
    "from plaid.containers.sample import Sample\n",
    "from scipy.spatial import KDTree"
   ]
  },
  {
   "cell_type": "markdown",
   "id": "ddc05237",
   "metadata": {},
   "source": [
    "Computation of the direct projection:"
   ]
  },
  {
   "cell_type": "code",
   "execution_count": null,
   "id": "982148aa",
   "metadata": {},
   "outputs": [],
   "source": [
    "spacing = np.divide(bbox[1] - bbox[0], np.array(dims) - 1)\n",
    "background_mesh = CreateConstantRectilinearMesh(\n",
    "    dimensions=dims, origin=bbox[0], spacing=spacing\n",
    ")\n",
    "naive_proj_sample = Sample()\n",
    "naive_proj_sample.add_tree(MeshToCGNS(background_mesh))\n",
    "\n",
    "mesh = CGNSToMesh(dataset[ids[0]].get_mesh())\n",
    "u1 = dataset[ids[0]].get_field(\"u1\")\n",
    "\n",
    "kdtree = KDTree(mesh.nodes)\n",
    "_, id_bg_nodes = kdtree.query(background_mesh.nodes)\n",
    "\n",
    "naive_proj_u1 = u1[id_bg_nodes]"
   ]
  },
  {
   "cell_type": "markdown",
   "id": "7e5d82e8",
   "metadata": {},
   "source": [
    "Computation of the inverse projection and illustration of the error:"
   ]
  },
  {
   "cell_type": "code",
   "execution_count": null,
   "id": "821eb69b",
   "metadata": {},
   "outputs": [],
   "source": [
    "kdtree = KDTree(background_mesh.nodes)\n",
    "_, id_bg_nodes = kdtree.query(mesh.nodes)\n",
    "\n",
    "_, id_origin_nodes = kdtree.query(mesh.nodes)\n",
    "\n",
    "naive_inv_proj_u1 = naive_proj_u1[id_bg_nodes]\n",
    "\n",
    "error = naive_inv_proj_u1 - dataset[ids[0]].get_field(\"u1\")\n",
    "\n",
    "img_name = \"transformation_5.png\"\n",
    "if os.environ.get(\"READTHEDOCS\") == \"True\" or os.environ.get(\"GITHUB_ACTIONS\"):\n",
    "    display(IPyImage(filename=img_name))\n",
    "else:\n",
    "    img_array = plot_field(\n",
    "        dataset[ids[0]],\n",
    "        error,\n",
    "        title=\"u1 error from naive projection and inverse projection\",\n",
    "        show_edges=True,\n",
    "        scalar_bar_args={\"title\": \"u1 error\"},\n",
    "    )\n",
    "    img = PILImage.fromarray(img_array)\n",
    "    img.save(img_name)\n",
    "    display(img)"
   ]
  },
  {
   "cell_type": "markdown",
   "id": "ae4002a5",
   "metadata": {},
   "source": [
    "We compute the norm of the error made by naive direct and inverse projections:"
   ]
  },
  {
   "cell_type": "code",
   "execution_count": null,
   "id": "84f4dea5",
   "metadata": {},
   "outputs": [],
   "source": [
    "print(f\"u1 error norm from projection and inverse projection = {np.linalg.norm(error)}\")"
   ]
  },
  {
   "cell_type": "code",
   "execution_count": null,
   "id": "29c5f2b4",
   "metadata": {},
   "outputs": [],
   "source": []
  }
 ],
 "metadata": {
  "kernelspec": {
   "display_name": "plaid-ops",
   "language": "python",
   "name": "python3"
  },
  "language_info": {
   "codemirror_mode": {
    "name": "ipython",
    "version": 3
   },
   "file_extension": ".py",
   "mimetype": "text/x-python",
   "name": "python",
   "nbconvert_exporter": "python",
   "pygments_lexer": "ipython3",
   "version": "3.11.13"
  }
 },
 "nbformat": 4,
 "nbformat_minor": 5
}
