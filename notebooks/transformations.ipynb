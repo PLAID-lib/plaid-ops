{
 "cells": [
  {
   "cell_type": "markdown",
   "id": "1c8011a1",
   "metadata": {},
   "source": [
    "# Transformation examples\n",
    "\n",
    "## Introduction\n",
    "This notebook illustrates some tranformation capabilities provided by plaid-ops. "
   ]
  },
  {
   "cell_type": "code",
   "execution_count": null,
   "id": "6e58f807",
   "metadata": {},
   "outputs": [],
   "source": [
    "from datasets import load_dataset\n",
    "from IPython.display import display\n",
    "from PIL import Image\n",
    "from plaid.bridges.huggingface_bridge import (\n",
    "    huggingface_dataset_to_plaid,\n",
    "    huggingface_description_to_problem_definition,\n",
    ")\n",
    "\n",
    "from plaid_ops.common.visualization import plot_sample_field\n",
    "from plaid_ops.mesh.feature_engineering import update_dataset_with_sdf\n",
    "from plaid_ops.mesh.transformations import (\n",
    "    compute_bounding_box,\n",
    "    project_on_other_datset,\n",
    "    project_on_regular_grid,\n",
    ")\n",
    "\n",
    "hf_dataset = load_dataset(\n",
    "    \"PLAID-datasets/2D_Multiscale_Hyperelasticity\", split=\"all_samples\"\n",
    ")\n",
    "pb_def = huggingface_description_to_problem_definition(hf_dataset.info.description)\n",
    "ids = pb_def.get_split(\"DOE_train\")[:2]\n",
    "dataset, _ = huggingface_dataset_to_plaid(hf_dataset, ids=ids, processes_number=2)"
   ]
  },
  {
   "cell_type": "code",
   "execution_count": null,
   "id": "f721273a",
   "metadata": {},
   "outputs": [],
   "source": [
    "dataset = update_dataset_with_sdf(dataset)\n",
    "\n",
    "img = plot_sample_field(\n",
    "    dataset[ids[0]],\n",
    "    \"sdf\",\n",
    "    title=\"Unstructured mesh\",\n",
    "    show_edges=True,\n",
    "    scalar_bar_args={\"title\": \"sdf\"},\n",
    ")\n",
    "display(Image.fromarray(img))"
   ]
  },
  {
   "cell_type": "code",
   "execution_count": null,
   "id": "5f3a1e0e",
   "metadata": {},
   "outputs": [],
   "source": [
    "bbox = compute_bounding_box(dataset)\n",
    "projected_dataset = project_on_regular_grid(\n",
    "    dataset, dimensions=[101, 101], bbox=bbox, verbose=True\n",
    ")\n",
    "\n",
    "img = plot_sample_field(\n",
    "    projected_dataset[ids[0]],\n",
    "    \"sdf\",\n",
    "    title=\"Projection on regular grid mesh\",\n",
    "    show_edges=True,\n",
    "    scalar_bar_args={\"title\": \"sdf\"},\n",
    ")\n",
    "display(Image.fromarray(img))"
   ]
  },
  {
   "cell_type": "code",
   "execution_count": null,
   "id": "d6604828",
   "metadata": {},
   "outputs": [],
   "source": [
    "inv_projected_dataset = project_on_other_datset(\n",
    "    projected_dataset, dataset, verbose=True\n",
    ")\n",
    "\n",
    "img = plot_sample_field(\n",
    "    inv_projected_dataset[ids[0]],\n",
    "    \"sdf\",\n",
    "    title=\"Projection back to inital mesh\",\n",
    "    show_edges=True,\n",
    "    scalar_bar_args={\"title\": \"sdf\"},\n",
    ")\n",
    "display(Image.fromarray(img))"
   ]
  }
 ],
 "metadata": {
  "kernelspec": {
   "display_name": "plaid-ops",
   "language": "python",
   "name": "python3"
  },
  "language_info": {
   "codemirror_mode": {
    "name": "ipython",
    "version": 3
   },
   "file_extension": ".py",
   "mimetype": "text/x-python",
   "name": "python",
   "nbconvert_exporter": "python",
   "pygments_lexer": "ipython3",
   "version": "3.11.13"
  }
 },
 "nbformat": 4,
 "nbformat_minor": 5
}
