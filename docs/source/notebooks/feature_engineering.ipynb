{
 "cells": [
  {
   "cell_type": "markdown",
   "id": "1c8011a1",
   "metadata": {},
   "source": [
    "# Feature engineering examples\n",
    "\n",
    "## Introduction\n",
    "This notebook illustrates some feature engineering capabilities provided by plaid-ops. "
   ]
  },
  {
   "cell_type": "code",
   "execution_count": 2,
   "id": "6e58f807",
   "metadata": {},
   "outputs": [],
   "source": [
    "import logging\n",
    "import pickle\n",
    "\n",
    "import pyvista as pv\n",
    "pv.OFF_SCREEN = True\n",
    "from datasets import load_dataset\n",
    "from plaid.containers.sample import Sample\n",
    "\n",
    "pv.set_jupyter_backend(\"static\")\n",
    "logging.getLogger().setLevel(logging.WARNING)\n",
    "\n",
    "\n",
    "hf_dataset = load_dataset(\"PLAID-datasets/VKI-LS59\", split=\"all_samples[:1]\")\n",
    "sample = Sample.model_validate(pickle.loads(hf_dataset[0][\"sample\"]))\n",
    "# ------------------------------------\n",
    "# when ready, to replace with\n",
    "# ------------------------------------\n",
    "# from plaid import examples\n",
    "# sample = samples.vki_ls59"
   ]
  },
  {
   "cell_type": "code",
   "execution_count": 3,
   "id": "41a23889",
   "metadata": {},
   "outputs": [],
   "source": [
    "from plaid_ops.common.visualization import plot_field\n",
    "from plaid_ops.mesh.feature_engineering import compute_sdf\n",
    "\n",
    "computed_sdf = compute_sdf(sample, base_name=\"Base_2_2\")\n",
    "# plot_field(sample, computed_sdf, base_name=\"Base_2_2\")"
   ]
  },
  {
   "cell_type": "code",
   "execution_count": null,
   "id": "4035ee06",
   "metadata": {},
   "outputs": [],
   "source": []
  }
 ],
 "metadata": {
  "kernelspec": {
   "display_name": "plaid-ops",
   "language": "python",
   "name": "python3"
  },
  "language_info": {
   "codemirror_mode": {
    "name": "ipython",
    "version": 3
   },
   "file_extension": ".py",
   "mimetype": "text/x-python",
   "name": "python",
   "nbconvert_exporter": "python",
   "pygments_lexer": "ipython3",
   "version": "3.11.13"
  }
 },
 "nbformat": 4,
 "nbformat_minor": 5
}
