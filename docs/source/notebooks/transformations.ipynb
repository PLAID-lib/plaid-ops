{
 "cells": [
  {
   "cell_type": "markdown",
   "id": "1c8011a1",
   "metadata": {},
   "source": [
    "# Transformation examples\n",
    "\n",
    "## Introduction\n",
    "This notebook illustrates some tranformation capabilities provided by plaid-ops. "
   ]
  },
  {
   "cell_type": "code",
   "execution_count": null,
   "id": "6e58f807",
   "metadata": {},
   "outputs": [],
   "source": [
    "import logging\n",
    "\n",
    "import pyvista as pv\n",
    "pv.OFF_SCREEN = True\n",
    "from datasets import load_dataset\n",
    "from plaid.bridges.huggingface_bridge import (\n",
    "    huggingface_dataset_to_plaid,\n",
    "    huggingface_description_to_problem_definition,\n",
    ")\n",
    "\n",
    "pv.set_jupyter_backend(\"static\")\n",
    "logging.getLogger().setLevel(logging.WARNING)\n",
    "from plaid_ops.common.visualization import plot_sample_field\n",
    "\n",
    "hf_dataset = load_dataset(\n",
    "    \"PLAID-datasets/2D_Multiscale_Hyperelasticity\", split=\"all_samples\"\n",
    ")\n",
    "pb_def = huggingface_description_to_problem_definition(hf_dataset.info.description)\n",
    "ids = pb_def.get_split(\"DOE_train\")[:10]\n",
    "\n",
    "dataset, _ = huggingface_dataset_to_plaid(hf_dataset, ids=ids, processes_number=5)\n",
    "print(dataset)"
   ]
  },
  {
   "cell_type": "code",
   "execution_count": null,
   "id": "4035ee06",
   "metadata": {},
   "outputs": [],
   "source": [
    "print(dataset[0])"
   ]
  },
  {
   "cell_type": "code",
   "execution_count": null,
   "id": "f721273a",
   "metadata": {},
   "outputs": [],
   "source": [
    "from plaid_ops.mesh.feature_engineering import update_dataset_with_sdf\n",
    "\n",
    "dataset = update_dataset_with_sdf(dataset)\n",
    "print(dataset[0])"
   ]
  },
  {
   "cell_type": "code",
   "execution_count": null,
   "id": "5f3a1e0e",
   "metadata": {},
   "outputs": [],
   "source": [
    "from plaid_ops.mesh.transformations import compute_bounding_box, project_on_regular_grid\n",
    "\n",
    "bbox = compute_bounding_box(dataset)\n",
    "projected_dataset = project_on_regular_grid(\n",
    "    dataset, dimensions=[401, 401], bbox=bbox, verbose=True\n",
    ")\n",
    "\n",
    "print(projected_dataset)"
   ]
  },
  {
   "cell_type": "code",
   "execution_count": null,
   "id": "d4497057",
   "metadata": {},
   "outputs": [],
   "source": [
    "plot_sample_field(projected_dataset[0], \"sdf\", show_edges=False)"
   ]
  },
  {
   "cell_type": "code",
   "execution_count": null,
   "id": "d6604828",
   "metadata": {},
   "outputs": [],
   "source": [
    "from plaid_ops.mesh.transformations import project_on_other_datset\n",
    "\n",
    "inv_projected_dataset = project_on_other_datset(\n",
    "    projected_dataset, dataset, verbose=True\n",
    ")"
   ]
  },
  {
   "cell_type": "code",
   "execution_count": null,
   "id": "1fa40720",
   "metadata": {},
   "outputs": [],
   "source": [
    "plot_sample_field(inv_projected_dataset[0], \"sdf\", show_edges=False)"
   ]
  },
  {
   "cell_type": "code",
   "execution_count": null,
   "id": "60df32cd",
   "metadata": {},
   "outputs": [],
   "source": [
    "print(inv_projected_dataset)"
   ]
  }
 ],
 "metadata": {
  "kernelspec": {
   "display_name": "plaid-ops",
   "language": "python",
   "name": "python3"
  },
  "language_info": {
   "codemirror_mode": {
    "name": "ipython",
    "version": 3
   },
   "file_extension": ".py",
   "mimetype": "text/x-python",
   "name": "python",
   "nbconvert_exporter": "python",
   "pygments_lexer": "ipython3",
   "version": "3.11.13"
  }
 },
 "nbformat": 4,
 "nbformat_minor": 5
}
